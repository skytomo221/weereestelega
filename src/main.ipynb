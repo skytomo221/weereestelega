{
 "cells": [
  {
   "cell_type": "code",
   "execution_count": 1,
   "source": [
    "using PyCall\n",
    "MeCab = pyimport(\"MeCab\")\n",
    "mecab = MeCab.Tagger(\"-Ochasen -d /usr/lib/x86_64-linux-gnu/mecab/dic/mecab-ipadic-neologd\")\n",
    "normarize_word(word) =\n",
    "    Unicode.normalize(word, :NFKC) |>\n",
    "    word -> replace(word, r\"\\d+\" => s\"0\")\n",
    "normarize(words) = map(normarize_word, words)\n",
    "words(str) =\n",
    "    mecab.parse(str) |>\n",
    "    node -> split(node, \"\\n\") |>\n",
    "    node -> map(node -> split(node, \"\\t\"), node) |>\n",
    "    node -> filter(node -> length(node) == 6, node)\n",
    "surface(word) = word[begin]\n",
    "yomi(word) = word[2]\n",
    "lemma(word) = word[3]\n",
    "raw_pos(word) = word[4]\n",
    "pos(word) = split(raw_pos(word), \"-\")[begin]"
   ],
   "outputs": [
    {
     "output_type": "execute_result",
     "data": {
      "text/plain": [
       "pos (generic function with 1 method)"
      ]
     },
     "metadata": {},
     "execution_count": 1
    }
   ],
   "metadata": {}
  },
  {
   "cell_type": "code",
   "execution_count": 2,
   "source": [
    "using Random, StatsBase\n",
    "\n",
    "function to_damotaagaa(word)\n",
    "    if lemma(word) == \"，\"\n",
    "        return \",\"\n",
    "    elseif lemma(word) == \"．\"\n",
    "        return \".\"\n",
    "    elseif lemma(word) == \"、\"\n",
    "        return \",\"\n",
    "    elseif lemma(word) == \"。\"\n",
    "        return \".\"\n",
    "    elseif lemma(word) == \"！\"\n",
    "        return \"!\"\n",
    "    elseif lemma(word) == \"？\"\n",
    "        return \"?\"\n",
    "    end\n",
    "    seed = MersenneTwister(parse(Int128, SubString(word |> lemma |> md5 |> bytes2hex, 1, 16), base=16))\n",
    "    new_word = \"\"\n",
    "    for i in 1:length(word |> yomi) * 2\n",
    "        if i % 2 == 0\n",
    "            v, w = zip(\n",
    "                (\"a\", 8.2),\n",
    "                (\"e\", 13.),\n",
    "                (\"i\", 7.),\n",
    "                (\"o\", 7.5),\n",
    "                (\"u\", 2.8),\n",
    "                (\"aa\", 4.1),\n",
    "                (\"ee\", 7.5),\n",
    "                (\"ii\", 3.5),\n",
    "                (\"oo\", 3.75),\n",
    "                (\"uu\", 1.4),\n",
    "                (\"ou\", 0.79),\n",
    "                (\"ea\", 0.60),\n",
    "                (\"ai\", 0.47),\n",
    "                (\"ei\", 0.12),\n",
    "                (\"oi\", 0.03),\n",
    "            ) |> collect |> x -> map(t -> collect(t), x)\n",
    "            new_word *= sample(seed, v, Weights(w))\n",
    "        else\n",
    "            c, w = zip(\n",
    "                (\"b\", 1.5),\n",
    "                (\"c\", 2.8),\n",
    "                (\"d\", 4.3),\n",
    "                (\"f\", 2.2),\n",
    "                (\"g\", 2.),\n",
    "                (\"h\", 6.1),\n",
    "                (\"j\", 2),\n",
    "                (\"k\", 0.77),\n",
    "                (\"l\", 4),\n",
    "                (\"m\", 2.4),\n",
    "                (\"n\", 6.7),\n",
    "                (\"p\", 1.9),\n",
    "                (\"q\", 0.095),\n",
    "                (\"r\", 6.),\n",
    "                (\"s\", 6.3),\n",
    "                (\"t\", 9.1),\n",
    "                (\"v\", 0.98),\n",
    "                (\"w\", 2.4),\n",
    "                (\"x\", 0.15),\n",
    "                (\"y\", 0.15),\n",
    "                (\"z\", 0.074),\n",
    "                (\"st\", 0.91),\n",
    "                (\"tr\", 0.30),\n",
    "            ) |> collect |> x -> map(t -> collect(t), x)\n",
    "            new_word *= sample(seed, c, Weights(w))\n",
    "        end\n",
    "    end\n",
    "    return new_word\n",
    "end"
   ],
   "outputs": [
    {
     "output_type": "execute_result",
     "data": {
      "text/plain": [
       "to_damotaagaa (generic function with 1 method)"
      ]
     },
     "metadata": {},
     "execution_count": 2
    }
   ],
   "metadata": {}
  },
  {
   "cell_type": "code",
   "execution_count": 3,
   "source": [
    "function format(words)\n",
    "    text = \"\"\n",
    "    first = true\n",
    "    for word in words\n",
    "        if match(r\"[.!?]\", word) !== nothing\n",
    "            text *= word\n",
    "            first = true\n",
    "        elseif match(r\"[,]\", word) !== nothing\n",
    "            text *= word\n",
    "        else\n",
    "            if first\n",
    "                text *= \" \" * uppercasefirst(word)\n",
    "                first = false\n",
    "            else\n",
    "                text *= \" \" * word\n",
    "            end\n",
    "        end\n",
    "    end\n",
    "    return strip(text)\n",
    "end"
   ],
   "outputs": [
    {
     "output_type": "execute_result",
     "data": {
      "text/plain": [
       "format (generic function with 1 method)"
      ]
     },
     "metadata": {},
     "execution_count": 3
    }
   ],
   "metadata": {}
  },
  {
   "cell_type": "code",
   "execution_count": 4,
   "source": [
    "translate(japanese) = format(to_damotaagaa.(words(japanese)))"
   ],
   "outputs": [
    {
     "output_type": "execute_result",
     "data": {
      "text/plain": [
       "translate (generic function with 1 method)"
      ]
     },
     "metadata": {},
     "execution_count": 4
    }
   ],
   "metadata": {}
  },
  {
   "cell_type": "code",
   "execution_count": 5,
   "source": [
    "using MD5\n",
    "text = \"私は空 友達です．\"\n",
    "translate(text), join(yomi.(words(text)), \" \")"
   ],
   "outputs": [
    {
     "output_type": "execute_result",
     "data": {
      "text/plain": [
       "(\"Ciniila ta busa naacenoonoo sihe.\", \"ワタシ ハ ソラ トモダチ デス ．\")"
      ]
     },
     "metadata": {},
     "execution_count": 5
    }
   ],
   "metadata": {}
  }
 ],
 "metadata": {
  "orig_nbformat": 4,
  "language_info": {
   "file_extension": ".jl",
   "name": "julia",
   "mimetype": "application/julia",
   "version": "1.6.1"
  },
  "kernelspec": {
   "name": "python395jvsc74a57bd098b0a9b7b4eaaa670588a142fd0a9b87eaafe866f1db4228be72b4211d12040f",
   "display_name": "Julia 1.6.1",
   "language": "julia"
  }
 },
 "nbformat": 4,
 "nbformat_minor": 2
}