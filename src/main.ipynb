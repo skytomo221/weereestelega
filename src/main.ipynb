{
 "cells": [
  {
   "cell_type": "code",
   "execution_count": 1,
   "source": [
    "using PyCall\n",
    "MeCab = pyimport(\"MeCab\")\n",
    "mecab = MeCab.Tagger(\"-Ochasen -d /usr/lib/x86_64-linux-gnu/mecab/dic/mecab-ipadic-neologd\")\n",
    "simple_mecab = MeCab.Tagger(\"\")\n",
    "normarize_word(word) =\n",
    "    Unicode.normalize(word, :NFKC) |>\n",
    "    word -> replace(word, r\"\\d+\" => s\"0\")\n",
    "normarize(words) = map(normarize_word, words)\n",
    "words(str) =\n",
    "    mecab.parse(str) |>\n",
    "    node -> split(node, \"\\n\") |>\n",
    "    node -> map(node -> split(node, \"\\t\"), node) |>\n",
    "    node -> filter(node -> length(node) == 6, node)\n",
    "simple_words(str) =\n",
    "    simple_mecab.parse(str) |>\n",
    "    node -> split(node, \"\\n\") |>\n",
    "    node -> map(node -> split(node, \"\\t\"), node) |>\n",
    "    node -> filter(node -> length(node) == 8, node)\n",
    "surface(word) = word[begin]\n",
    "yomi(word) = word[2]\n",
    "lemma(word) = word[3]\n",
    "raw_pos(word) = word[4]\n",
    "pos(word) = split(raw_pos(word), \"-\")[begin]"
   ],
   "outputs": [
    {
     "output_type": "execute_result",
     "data": {
      "text/plain": [
       "pos (generic function with 1 method)"
      ]
     },
     "metadata": {},
     "execution_count": 1
    }
   ],
   "metadata": {}
  },
  {
   "cell_type": "code",
   "execution_count": 2,
   "source": [
    "simple_words(\"やさしい日本語を\")"
   ],
   "outputs": [
    {
     "output_type": "execute_result",
     "data": {
      "text/plain": [
       "4-element Vector{Vector{SubString{String}}}:\n",
       " [\"やさしい\", \"ヤサシー\", \"ヤサシイ\", \"優しい\", \"形容詞-一般\", \"形容詞\", \"連体形-一般\", \"0,3\"]\n",
       " [\"日本\", \"ニッポン\", \"ニッポン\", \"日本\", \"名詞-固有名詞-地名-国\", \"\", \"\", \"3\"]\n",
       " [\"語\", \"ゴ\", \"ゴ\", \"語\", \"名詞-普通名詞-一般\", \"\", \"\", \"1\"]\n",
       " [\"を\", \"オ\", \"ヲ\", \"を\", \"助詞-格助詞\", \"\", \"\", \"\"]"
      ]
     },
     "metadata": {},
     "execution_count": 2
    }
   ],
   "metadata": {}
  },
  {
   "cell_type": "code",
   "execution_count": 3,
   "source": [
    "using Random, StatsBase\n",
    "\n",
    "function gen_raw_word(word)\n",
    "    if lemma(word) == \"，\"\n",
    "        return \",\"\n",
    "    elseif lemma(word) == \"．\"\n",
    "        return \".\"\n",
    "    elseif lemma(word) == \"、\"\n",
    "        return \",\"\n",
    "    elseif lemma(word) == \"。\"\n",
    "        return \".\"\n",
    "    elseif lemma(word) == \"！\"\n",
    "        return \"!\"\n",
    "    elseif lemma(word) == \"？\"\n",
    "        return \"?\"\n",
    "    elseif lemma(word) == \"（\"\n",
    "        return \"(\"\n",
    "    elseif lemma(word) == \"）\"\n",
    "        return \")\"\n",
    "    end\n",
    "    seed = MersenneTwister(parse(Int128, SubString(word |> lemma |> md5 |> bytes2hex, 1, 16), base=16))\n",
    "    new_word = \"\"\n",
    "    word_len = if pos(word) == \"名詞\" || pos(word) == \"代名詞\"\n",
    "        length(word |> yomi) * 2\n",
    "    else\n",
    "        length(word |> lemma) * 2\n",
    "    end\n",
    "    for i in 1:word_len\n",
    "        if i % 2 == 0\n",
    "            v, w = zip(\n",
    "                (\"a\", 8.2),\n",
    "                (\"e\", 13.),\n",
    "                (\"i\", 7.),\n",
    "                (\"o\", 7.5),\n",
    "                (\"u\", 2.8),\n",
    "                (\"aa\", 2.42),\n",
    "                (\"ee\", 3.25),\n",
    "                (\"ii\", 1.75),\n",
    "                (\"oo\", 1.875),\n",
    "                (\"uu\", 0.7),\n",
    "                (\"ou\", 0.79),\n",
    "                (\"ea\", 0.60),\n",
    "                (\"ai\", 0.47),\n",
    "                (\"ei\", 0.12),\n",
    "                (\"oi\", 0.95),\n",
    "            ) |> collect |> x -> map(t -> collect(t), x)\n",
    "            new_word *= sample(seed, v, Weights(w))\n",
    "        else\n",
    "            c, w = if i == 1\n",
    "                zip(\n",
    "                    (\"b\", 1.5),\n",
    "                    (\"c\", 2.8),\n",
    "                    (\"d\", 4.3),\n",
    "                    (\"f\", 2.2),\n",
    "                    (\"g\", 2.),\n",
    "                    (\"h\", 6.1),\n",
    "                    (\"j\", 2),\n",
    "                    (\"k\", 0.77),\n",
    "                    (\"l\", 4),\n",
    "                    (\"m\", 2.4),\n",
    "                    (\"n\", 6.7),\n",
    "                    (\"p\", 1.9),\n",
    "                    (\"q\", 0.095),\n",
    "                    (\"r\", 6.),\n",
    "                    (\"s\", 6.3),\n",
    "                    (\"t\", 9.1),\n",
    "                    (\"v\", 0.98),\n",
    "                    (\"w\", 2.4),\n",
    "                    (\"x\", 0.15),\n",
    "                    (\"y\", 0.15),\n",
    "                    (\"z\", 0.074),\n",
    "                ) |> collect |> x -> map(t -> collect(t), x)\n",
    "            else\n",
    "                zip(\n",
    "                    (\"b\", 1.5),\n",
    "                    (\"c\", 2.8),\n",
    "                    (\"d\", 4.3),\n",
    "                    (\"f\", 2.2),\n",
    "                    (\"g\", 2.),\n",
    "                    (\"h\", 6.1),\n",
    "                    (\"j\", 2),\n",
    "                    (\"k\", 0.77),\n",
    "                    (\"l\", 4),\n",
    "                    (\"m\", 2.4),\n",
    "                    (\"n\", 6.7),\n",
    "                    (\"p\", 1.9),\n",
    "                    (\"q\", 0.095),\n",
    "                    (\"r\", 6.),\n",
    "                    (\"s\", 6.3),\n",
    "                    (\"t\", 9.1),\n",
    "                    (\"v\", 0.98),\n",
    "                    (\"w\", 2.4),\n",
    "                    (\"x\", 0.15),\n",
    "                    (\"y\", 0.15),\n",
    "                    (\"z\", 0.074),\n",
    "                    (\"st\", 0.91),\n",
    "                    (\"tr\", 0.30),\n",
    "                    (\"ll\", 1.49),\n",
    "                    (\"tt\", 0.94),\n",
    "                ) |> collect |> x -> map(t -> collect(t), x)\n",
    "            end\n",
    "            new_word *= sample(seed, c, Weights(w))\n",
    "        end\n",
    "    end\n",
    "    return new_word\n",
    "end"
   ],
   "outputs": [
    {
     "output_type": "execute_result",
     "data": {
      "text/plain": [
       "gen_raw_word (generic function with 1 method)"
      ]
     },
     "metadata": {},
     "execution_count": 3
    }
   ],
   "metadata": {}
  },
  {
   "cell_type": "code",
   "execution_count": 4,
   "source": [
    "function gen_word(word)\n",
    "    join(gen_raw_word.(map(x -> x[setdiff(1:length(x), [2])], simple_words(word))))\n",
    "end"
   ],
   "outputs": [
    {
     "output_type": "execute_result",
     "data": {
      "text/plain": [
       "gen_word (generic function with 1 method)"
      ]
     },
     "metadata": {},
     "execution_count": 4
    }
   ],
   "metadata": {}
  },
  {
   "cell_type": "code",
   "execution_count": 5,
   "source": [
    "function format(words)\n",
    "    text = \"\"\n",
    "    first = true\n",
    "    for word in words\n",
    "        gw = gen_word(surface(word))\n",
    "        if match(r\"[.!?]\", gw) !== nothing\n",
    "            text *= gw\n",
    "            first = true\n",
    "        elseif match(r\"[,()]\", gw) !== nothing\n",
    "            text *= gw\n",
    "        elseif lemma(word) == \"は\" && pos(word) == \"助詞\"\n",
    "            text *= \"\"\n",
    "        elseif lemma(word) == \"が\" && pos(word) == \"助詞\"\n",
    "            text *= \"s\"\n",
    "        elseif lemma(word) == \"の\" && pos(word) == \"助詞\"\n",
    "            last_word = split(text)[end]\n",
    "            if (last_word[end - 1] != last_word[end])\n",
    "                text *= last_word[end]\n",
    "            end\n",
    "        elseif lemma(word) == \"を\" && pos(word) == \"助詞\"\n",
    "            text *= \"n\"\n",
    "        elseif pos(word) == \"助詞\" || pos(word) == \"助動詞\" || match(r\"名詞-非自立\", raw_pos(word)) !== nothing\n",
    "            text *= gw\n",
    "        elseif match(r\"[A-Za-z]\", surface(word)) !== nothing\n",
    "            text *= \" \" * uppercasefirst(surface(word))\n",
    "            first = false\n",
    "        else\n",
    "            if first\n",
    "                text *= \" \" * uppercasefirst(gw)\n",
    "                first = false\n",
    "            else\n",
    "                text *= \" \" * gw\n",
    "            end\n",
    "        end\n",
    "    end\n",
    "    return strip(text)\n",
    "end"
   ],
   "outputs": [
    {
     "output_type": "execute_result",
     "data": {
      "text/plain": [
       "format (generic function with 1 method)"
      ]
     },
     "metadata": {},
     "execution_count": 5
    }
   ],
   "metadata": {}
  },
  {
   "cell_type": "code",
   "execution_count": 6,
   "source": [
    "translate(japanese) = format(words(japanese))"
   ],
   "outputs": [
    {
     "output_type": "execute_result",
     "data": {
      "text/plain": [
       "translate (generic function with 1 method)"
      ]
     },
     "metadata": {},
     "execution_count": 6
    }
   ],
   "metadata": {}
  },
  {
   "cell_type": "code",
   "execution_count": 7,
   "source": [
    "using MD5\n",
    "text = \"こんにちは！Bosa Nocenooniiです．僕は日本語を話します．\"\n",
    "translate(text), join(yomi.(words(text)), \" \")"
   ],
   "outputs": [
    {
     "output_type": "execute_result",
     "data": {
      "text/plain": [
       "(\"Gitosii! Bosa Nocenooniiseje. Deree weereestelegan tatutadaa.\", \"コンニチハ ！ Bosa Nocenoonii デス ． ボク ハ ニホンゴ ヲ ハナシ マス ．\")"
      ]
     },
     "metadata": {},
     "execution_count": 7
    }
   ],
   "metadata": {}
  },
  {
   "cell_type": "code",
   "execution_count": 8,
   "source": [
    "simple_words(\"こんにちは！Bosa Nocenooniiです．僕は日本語を話します．\")"
   ],
   "outputs": [
    {
     "output_type": "execute_result",
     "data": {
      "text/plain": [
       "14-element Vector{Vector{SubString{String}}}:\n",
       " [\"こんにちは\", \"コンニチワ\", \"コンニチハ\", \"今日は\", \"感動詞-一般\", \"\", \"\", \"5\"]\n",
       " [\"！\", \"\", \"\", \"！\", \"補助記号-句点\", \"\", \"\", \"\"]\n",
       " [\"Bosa\", \"Bosa\", \"Bosa\", \"Bosa\", \"名詞-普通名詞-一般\", \"\", \"\", \"0\"]\n",
       " [\"Nocenoonii\", \"Nocenoonii\", \"Nocenoonii\", \"Nocenoonii\", \"名詞-普通名詞-一般\", \"\", \"\", \"0\"]\n",
       " [\"です\", \"デス\", \"デス\", \"です\", \"助動詞\", \"助動詞-デス\", \"終止形-一般\", \"\"]\n",
       " [\"．\", \"\", \"\", \"．\", \"補助記号-句点\", \"\", \"\", \"\"]\n",
       " [\"僕\", \"ボク\", \"ボク\", \"僕\", \"代名詞\", \"\", \"\", \"1,0\"]\n",
       " [\"は\", \"ワ\", \"ハ\", \"は\", \"助詞-係助詞\", \"\", \"\", \"\"]\n",
       " [\"日本\", \"ニッポン\", \"ニッポン\", \"日本\", \"名詞-固有名詞-地名-国\", \"\", \"\", \"3\"]\n",
       " [\"語\", \"ゴ\", \"ゴ\", \"語\", \"名詞-普通名詞-一般\", \"\", \"\", \"1\"]\n",
       " [\"を\", \"オ\", \"ヲ\", \"を\", \"助詞-格助詞\", \"\", \"\", \"\"]\n",
       " [\"話し\", \"ハナシ\", \"ハナス\", \"話す\", \"動詞-一般\", \"五段-サ行\", \"連用形-一般\", \"2\"]\n",
       " [\"ます\", \"マス\", \"マス\", \"ます\", \"助動詞\", \"助動詞-マス\", \"終止形-一般\", \"\"]\n",
       " [\"．\", \"\", \"\", \"．\", \"補助記号-句点\", \"\", \"\", \"\"]"
      ]
     },
     "metadata": {},
     "execution_count": 8
    }
   ],
   "metadata": {}
  }
 ],
 "metadata": {
  "orig_nbformat": 4,
  "language_info": {
   "file_extension": ".jl",
   "name": "julia",
   "mimetype": "application/julia",
   "version": "1.6.1"
  },
  "kernelspec": {
   "name": "python395jvsc74a57bd098b0a9b7b4eaaa670588a142fd0a9b87eaafe866f1db4228be72b4211d12040f",
   "display_name": "Julia 1.6.1",
   "language": "julia"
  }
 },
 "nbformat": 4,
 "nbformat_minor": 2
}